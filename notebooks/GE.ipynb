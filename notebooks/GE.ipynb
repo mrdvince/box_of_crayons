{
 "cells": [
  {
   "cell_type": "code",
   "execution_count": 1,
   "id": "4d503c62",
   "metadata": {},
   "outputs": [],
   "source": [
    "# !pip install geemap\n",
    "\n",
    "import geemap"
   ]
  },
  {
   "cell_type": "code",
   "execution_count": 2,
   "id": "2c4b7379",
   "metadata": {},
   "outputs": [
    {
     "data": {
      "text/html": [
       "<p>To authorize access needed by Earth Engine, open the following\n",
       "        URL in a web browser and follow the instructions:</p>\n",
       "        <p><a href=https://accounts.google.com/o/oauth2/auth?client_id=517222506229-vsmmajv00ul0bs7p89v5m89qs8eb9359.apps.googleusercontent.com&scope=https%3A%2F%2Fwww.googleapis.com%2Fauth%2Fearthengine+https%3A%2F%2Fwww.googleapis.com%2Fauth%2Fdevstorage.full_control&redirect_uri=urn%3Aietf%3Awg%3Aoauth%3A2.0%3Aoob&response_type=code&code_challenge=oXrbO5-Bv_mi7sFKNo1_-Aez-6nE2LfWrE5WmSYA_sc&code_challenge_method=S256>https://accounts.google.com/o/oauth2/auth?client_id=517222506229-vsmmajv00ul0bs7p89v5m89qs8eb9359.apps.googleusercontent.com&scope=https%3A%2F%2Fwww.googleapis.com%2Fauth%2Fearthengine+https%3A%2F%2Fwww.googleapis.com%2Fauth%2Fdevstorage.full_control&redirect_uri=urn%3Aietf%3Awg%3Aoauth%3A2.0%3Aoob&response_type=code&code_challenge=oXrbO5-Bv_mi7sFKNo1_-Aez-6nE2LfWrE5WmSYA_sc&code_challenge_method=S256</a></p>\n",
       "        <p>The authorization workflow will generate a code, which you\n",
       "        should paste in the box below</p>\n",
       "        "
      ],
      "text/plain": [
       "<IPython.core.display.HTML object>"
      ]
     },
     "metadata": {},
     "output_type": "display_data"
    },
    {
     "name": "stdout",
     "output_type": "stream",
     "text": [
      "Enter verification code: 4/1AX4XfWhSIpzHyV-oEbC3SpB1t5qb9m92jgIN2H150qBoejXRP2u58nhNoyQ\n",
      "\n",
      "Successfully saved authorization token.\n"
     ]
    }
   ],
   "source": [
    "Map = geemap.Map()"
   ]
  },
  {
   "cell_type": "code",
   "execution_count": 7,
   "id": "a4e66f6c",
   "metadata": {},
   "outputs": [
    {
     "data": {
      "application/vnd.jupyter.widget-view+json": {
       "model_id": "1f15dc9b12bb410cbdfdf4b8ba1297e2",
       "version_major": 2,
       "version_minor": 0
      },
      "text/plain": [
       "Map(center=[40, -100], controls=(WidgetControl(options=['position', 'transparent_bg'], widget=HBox(children=(T…"
      ]
     },
     "metadata": {},
     "output_type": "display_data"
    }
   ],
   "source": [
    "Map"
   ]
  },
  {
   "cell_type": "code",
   "execution_count": 8,
   "id": "9fa87d16",
   "metadata": {},
   "outputs": [
    {
     "data": {
      "text/plain": [
       "{'geodesic': False,\n",
       " 'type': 'Polygon',\n",
       " 'coordinates': [[[-17.176416, 14.736613],\n",
       "   [-17.176416, 14.738791],\n",
       "   [-17.173336, 14.738791],\n",
       "   [-17.173336, 14.736613],\n",
       "   [-17.176416, 14.736613]]]}"
      ]
     },
     "execution_count": 8,
     "metadata": {},
     "output_type": "execute_result"
    }
   ],
   "source": [
    "#draw a rectangle in the above map and then run this\n",
    "#ROI - Region of Interest\n",
    "\n",
    "feature = Map.draw_last_feature\n",
    "ROI = feature.geometry()\n",
    "ROI.getInfo()"
   ]
  },
  {
   "cell_type": "code",
   "execution_count": 10,
   "id": "f1bf4487",
   "metadata": {},
   "outputs": [],
   "source": [
    "import ee\n",
    "\n",
    "def maskS2clouds(image):\n",
    "    qa = image.select('QA60')\n",
    "    cloudBitMask = 1 << 10\n",
    "    cirrusBitMask = 1 << 11\n",
    "    mask = qa.bitwiseAnd(cloudBitMask).eq(0).And(qa.bitwiseAnd(cirrusBitMask).eq(0))\n",
    "    return image.updateMask(mask).divide(10000) \n",
    "\n",
    "\n",
    "# Load Sentinel-2 TOA reflectance data.\n",
    "imageCollection = ee.ImageCollection('COPERNICUS/S2') \\\n",
    "    .filterDate('2016-01-01', '2016-12-31') \\\n",
    "    .filter(ee.Filter.lt('CLOUDY_PIXEL_PERCENTAGE', 5)) \\\n",
    "    .map(maskS2clouds) \\\n",
    "    .filterBounds(ROI) \\\n",
    "    .sort('CLOUDY_PIXEL_PERCENTAGE')\n",
    "\n",
    "\n",
    "rawImg = ee.Image(imageCollection.toList(imageCollection.size()).get(0))\n",
    "\n",
    "#get the matrix for B2 band only\n",
    "B2_image = geemap.ee_to_numpy(rawImg.select(['B2']), region=ROI)"
   ]
  },
  {
   "cell_type": "code",
   "execution_count": 17,
   "id": "3a0ddf89",
   "metadata": {},
   "outputs": [],
   "source": [
    "import matplotlib.pyplot as plt\n",
    "import cv2"
   ]
  },
  {
   "cell_type": "code",
   "execution_count": 15,
   "id": "1ad8a123",
   "metadata": {},
   "outputs": [
    {
     "data": {
      "text/plain": [
       "<matplotlib.image.AxesImage at 0x7faeff3a02b0>"
      ]
     },
     "execution_count": 15,
     "metadata": {},
     "output_type": "execute_result"
    },
    {
     "data": {
      "image/png": "[encoded data removed]",
      "text/plain": [
       "<Figure size 432x288 with 1 Axes>"
      ]
     },
     "metadata": {
      "needs_background": "light"
     },
     "output_type": "display_data"
    }
   ],
   "source": [
    "plt.imshow(B2_image)"
   ]
  },
  {
   "cell_type": "code",
   "execution_count": 19,
   "id": "12caffd8",
   "metadata": {},
   "outputs": [],
   "source": [
    "targetSize = (50,50)\n",
    "\n",
    "B5_Matrix = cv2.resize(B2_image,targetSize,interpolation=cv2.INTER_NEAREST)"
   ]
  },
  {
   "cell_type": "code",
   "execution_count": 20,
   "id": "a9b68039",
   "metadata": {},
   "outputs": [
    {
     "ename": "NameError",
     "evalue": "name 'widgets' is not defined",
     "output_type": "error",
     "traceback": [
      "\u001b[0;31m---------------------------------------------------------------------------\u001b[0m",
      "\u001b[0;31mNameError\u001b[0m                                 Traceback (most recent call last)",
      "\u001b[0;32m/tmp/ipykernel_356/2364784577.py\u001b[0m in \u001b[0;36m<module>\u001b[0;34m\u001b[0m\n\u001b[1;32m      1\u001b[0m \u001b[0;31m#Date picker\u001b[0m\u001b[0;34m\u001b[0m\u001b[0;34m\u001b[0m\u001b[0;34m\u001b[0m\u001b[0m\n\u001b[0;32m----> 2\u001b[0;31m dateBox = widgets.DatePicker(\n\u001b[0m\u001b[1;32m      3\u001b[0m     \u001b[0mdescription\u001b[0m\u001b[0;34m=\u001b[0m\u001b[0;34m''\u001b[0m\u001b[0;34m,\u001b[0m\u001b[0;34m\u001b[0m\u001b[0;34m\u001b[0m\u001b[0m\n\u001b[1;32m      4\u001b[0m     \u001b[0mdisabled\u001b[0m\u001b[0;34m=\u001b[0m\u001b[0;32mFalse\u001b[0m\u001b[0;34m\u001b[0m\u001b[0;34m\u001b[0m\u001b[0m\n\u001b[1;32m      5\u001b[0m )\n",
      "\u001b[0;31mNameError\u001b[0m: name 'widgets' is not defined"
     ]
    }
   ],
   "source": [
    "#Date picker \n",
    "dateBox = widgets.DatePicker(\n",
    "    description='',\n",
    "    disabled=False\n",
    ")\n",
    "\n",
    "#Map\n",
    "mapWidget = widgets.Output()\n",
    "    \n",
    "#labels\n",
    "step1 = widgets.Label('Step 1: Select the date')\n",
    "step2 = widgets.Label('Step 2: Select Region from the map')\n",
    "step3 = widgets.Label('Step 3: Load model')\n",
    "step4 = widgets.Label('Step 4: Estimate yield')\n",
    "estimate_yield_debug = widgets.Label('')\n",
    "\n",
    "#Buttons\n",
    "getROI = widgets.Button(description='Ok')\n",
    "estimate_yield_Btn = widgets.Button(description='Estimate yield')\n",
    "loadModel_Btn = widgets.Button(description='Load model')\n",
    "\n",
    "#Progress bar\n",
    "progressBar = widgets.IntProgress(\n",
    "    value=0,\n",
    "    min=0,\n",
    "    max=19,\n",
    "    step=1,\n",
    "    description='',\n",
    "    bar_style='info', \n",
    "    orientation='horizontal'\n",
    ")\n",
    "\n",
    "#Text Area\n",
    "estimate_yield_Out = widgets.Textarea(\n",
    "    value='',\n",
    "    placeholder='',\n",
    "    description='',\n",
    "    disabled=True,\n",
    "    layout={'height': '300px'}\n",
    ")\n",
    "\n",
    "#Display prediction image (Matplotlib plot)\n",
    "estimate_yield_plot = widgets.Output()"
   ]
  },
  {
   "cell_type": "code",
   "execution_count": null,
   "id": "48483aa2",
   "metadata": {},
   "outputs": [],
   "source": []
  }
 ],
 "metadata": {
  "kernelspec": {
   "display_name": "Python 3 (ipykernel)",
   "language": "python",
   "name": "python3"
  },
  "language_info": {
   "codemirror_mode": {
    "name": "ipython",
    "version": 3
   },
   "file_extension": ".py",
   "mimetype": "text/x-python",
   "name": "python",
   "nbconvert_exporter": "python",
   "pygments_lexer": "ipython3",
   "version": "3.9.5"
  }
 },
 "nbformat": 4,
 "nbformat_minor": 5
}
