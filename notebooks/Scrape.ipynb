{
 "cells": [
  {
   "cell_type": "code",
   "execution_count": 1,
   "id": "97db1429",
   "metadata": {},
   "outputs": [],
   "source": [
    "from fastbook import *"
   ]
  },
  {
   "cell_type": "code",
   "execution_count": 2,
   "id": "5a478024",
   "metadata": {},
   "outputs": [],
   "source": [
    "from tqdm.auto import tqdm"
   ]
  },
  {
   "cell_type": "code",
   "execution_count": 3,
   "id": "0004d193",
   "metadata": {},
   "outputs": [],
   "source": [
    "def search_images_ddg(term, max_images=200):\n",
    "    \"Search for `term` with DuckDuckGo and return a unique urls of about `max_images` images\"\n",
    "    assert max_images<1000\n",
    "    url = 'https://duckduckgo.com/'\n",
    "    res = urlread(url,data={'q':term})\n",
    "    searchObj = re.search(r'vqd=([\\d-]+)\\&', res)\n",
    "    assert searchObj\n",
    "    requestUrl = url + 'i.js'\n",
    "    params = dict(l='us-en', o='json', q=term, iaf='type%3Aphoto', vqd=searchObj.group(1), f=',,,', p='1', v7exp='a')\n",
    "    urls,data = set(),{'next':1}\n",
    "    while len(urls)<max_images and 'next' in data:\n",
    "        try:\n",
    "            data = urljson(requestUrl,data=params)\n",
    "            urls.update(L(data['results']).itemgot('image'))\n",
    "            requestUrl = url + data['next']\n",
    "        except (URLError,HTTPError): pass\n",
    "        time.sleep(0.5)\n",
    "    return L(urls)"
   ]
  },
  {
   "cell_type": "code",
   "execution_count": 4,
   "id": "b6cae828",
   "metadata": {},
   "outputs": [],
   "source": [
    "urls = search_images_ddg('apple scab', max_images=500)"
   ]
  },
  {
   "cell_type": "code",
   "execution_count": 5,
   "id": "efb46396",
   "metadata": {},
   "outputs": [
    {
     "data": {
      "application/vnd.jupyter.widget-view+json": {
       "model_id": "c80b439ad62947ae88af2fea267509c5",
       "version_major": 2,
       "version_minor": 0
      },
      "text/plain": [
       "  0%|          | 0/506 [00:00<?, ?it/s]"
      ]
     },
     "metadata": {},
     "output_type": "display_data"
    }
   ],
   "source": [
    "for idx, url in enumerate(tqdm(urls, total=len(urls))):\n",
    "    try:download_url(url, dest=f'data/apple_scab/00{idx}.jpg', show_progress=False)\n",
    "    except Exception: pass"
   ]
  },
  {
   "cell_type": "code",
   "execution_count": null,
   "id": "927326d5",
   "metadata": {},
   "outputs": [],
   "source": []
  }
 ],
 "metadata": {
  "kernelspec": {
   "display_name": "Python 3 (ipykernel)",
   "language": "python",
   "name": "python3"
  },
  "language_info": {
   "codemirror_mode": {
    "name": "ipython",
    "version": 3
   },
   "file_extension": ".py",
   "mimetype": "text/x-python",
   "name": "python",
   "nbconvert_exporter": "python",
   "pygments_lexer": "ipython3",
   "version": "3.9.5"
  }
 },
 "nbformat": 4,
 "nbformat_minor": 5
}
